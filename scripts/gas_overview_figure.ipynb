{
 "cells": [
  {
   "cell_type": "code",
   "execution_count": 1,
   "id": "eb299277-363c-4e23-bfa5-c9171df8194e",
   "metadata": {},
   "outputs": [],
   "source": [
    "import pandas as pd\n",
    "import seaborn as sns\n",
    "import matplotlib.pyplot as plt\n",
    "import warnings\n",
    "warnings.filterwarnings('ignore')"
   ]
  },
  {
   "cell_type": "code",
   "execution_count": 2,
   "id": "a41712ac",
   "metadata": {},
   "outputs": [],
   "source": [
    "fs = 18 # fontsize\n",
    "plt.rcParams['axes.labelsize'] = fs\n",
    "plt.rcParams['xtick.labelsize'] = fs\n",
    "plt.rcParams['ytick.labelsize'] = fs"
   ]
  },
  {
   "cell_type": "code",
   "execution_count": 27,
   "id": "18d539ce-4b7c-4dda-857b-a92c9ad8d0e3",
   "metadata": {},
   "outputs": [],
   "source": [
    "df_import = pd.read_excel('../data/nrg_ti_gas__custom_938385_page_spreadsheet.xlsx',sheet_name='Sheet 1',header=9,usecols=['TIME','2020'],dtype={'2020':'float64'})\n",
    "df_consumption = pd.read_excel('../data/nrg_ti_gas_page_spreadsheet.xlsx',sheet_name='Sheet 1',header=9,usecols=['TIME','2020'],dtype={'2020':'float64'})"
   ]
  },
  {
   "cell_type": "code",
   "execution_count": 28,
   "id": "47d77f22-e447-4b99-988b-0a38170cf76d",
   "metadata": {},
   "outputs": [],
   "source": [
    "#df_import.set_index('TIME',inplace=True)\n",
    "df_import.dropna(inplace=True)\n",
    "df_import.drop(1,inplace=True)\n",
    "df_import.rename(columns={'TIME':'country','2020':'imp'},inplace=True)"
   ]
  },
  {
   "cell_type": "code",
   "execution_count": 29,
   "id": "b831373e",
   "metadata": {},
   "outputs": [],
   "source": [
    "df_import.set_index('country',inplace=True)\n",
    "df_import.rename({'Germany (until 1990 former territory of the FRG)':'Germany','Czechia':'Czech Republic'},inplace=True)"
   ]
  },
  {
   "cell_type": "code",
   "execution_count": 30,
   "id": "095b2a62",
   "metadata": {},
   "outputs": [],
   "source": [
    "# Some countries, e.g. United Kingdom is not included in this database. UK is the 10th largest consumer globally... \n",
    "Europe = ['Albania', 'Austria',#'Bosnia Herzegovina', \n",
    "          'Belgium',\n",
    "         'Bulgaria', #'Switzerland', \n",
    "         'Czech Republic', \n",
    "         'Germany', 'Denmark', 'Estonia', 'Spain', \n",
    "         'Finland', 'France', #'United Kingdom', \n",
    "          'Greece', 'Croatia', \n",
    "         'Hungary', 'Ireland', 'Italy', 'Lithuania', 'Luxembourg', 'Latvia', \n",
    "         'Montenegro', #'Macedonia', \n",
    "          'Netherlands', #'Norway', \n",
    "          'Poland', \n",
    "         'Portugal', 'Romania', #'Serbia', \n",
    "          'Sweden', 'Slovenia', 'Slovakia']"
   ]
  },
  {
   "cell_type": "code",
   "execution_count": 7,
   "id": "6b86d085",
   "metadata": {},
   "outputs": [],
   "source": [
    "threshold = 20000"
   ]
  },
  {
   "cell_type": "code",
   "execution_count": 8,
   "id": "aa0844f4",
   "metadata": {},
   "outputs": [],
   "source": [
    "df_import_Europe = df_import.loc[Europe]\n",
    "df_import_nonEurope = df_import.loc[~df_import.index.isin(Europe)]\n",
    "\n",
    "idx_small_rows_imp_Europe = df_import_Europe.query(\"imp <= \" + str(threshold)).index\n",
    "idx_small_rows_imp_nonEurope = df_import_nonEurope.query(\"imp <= \" + str(threshold)).index\n",
    "\n",
    "s_Europe = df_import_Europe.loc[idx_small_rows_imp_Europe,'imp'].sum()\n",
    "s_nonEurope = df_import_nonEurope.loc[idx_small_rows_imp_nonEurope,'imp'].sum()\n",
    "\n",
    "df_import.drop(list(idx_small_rows_imp_Europe) + list(idx_small_rows_imp_nonEurope),inplace=True)"
   ]
  },
  {
   "cell_type": "code",
   "execution_count": 9,
   "id": "c287c8c3",
   "metadata": {},
   "outputs": [
    {
     "data": {
      "text/html": [
       "<div>\n",
       "<style scoped>\n",
       "    .dataframe tbody tr th:only-of-type {\n",
       "        vertical-align: middle;\n",
       "    }\n",
       "\n",
       "    .dataframe tbody tr th {\n",
       "        vertical-align: top;\n",
       "    }\n",
       "\n",
       "    .dataframe thead th {\n",
       "        text-align: right;\n",
       "    }\n",
       "</style>\n",
       "<table border=\"1\" class=\"dataframe\">\n",
       "  <thead>\n",
       "    <tr style=\"text-align: right;\">\n",
       "      <th></th>\n",
       "      <th>imp</th>\n",
       "    </tr>\n",
       "    <tr>\n",
       "      <th>country</th>\n",
       "      <th></th>\n",
       "    </tr>\n",
       "  </thead>\n",
       "  <tbody>\n",
       "    <tr>\n",
       "      <th>Russia</th>\n",
       "      <td>152648.740</td>\n",
       "    </tr>\n",
       "    <tr>\n",
       "      <th>Norway</th>\n",
       "      <td>74562.741</td>\n",
       "    </tr>\n",
       "    <tr>\n",
       "      <th>Algeria</th>\n",
       "      <td>28997.230</td>\n",
       "    </tr>\n",
       "    <tr>\n",
       "      <th>Not specified</th>\n",
       "      <td>27431.302</td>\n",
       "    </tr>\n",
       "    <tr>\n",
       "      <th>Netherlands</th>\n",
       "      <td>22941.337</td>\n",
       "    </tr>\n",
       "  </tbody>\n",
       "</table>\n",
       "</div>"
      ],
      "text/plain": [
       "                      imp\n",
       "country                  \n",
       "Russia         152648.740\n",
       "Norway          74562.741\n",
       "Algeria         28997.230\n",
       "Not specified   27431.302\n",
       "Netherlands     22941.337"
      ]
     },
     "execution_count": 9,
     "metadata": {},
     "output_type": "execute_result"
    }
   ],
   "source": [
    "df_import"
   ]
  },
  {
   "cell_type": "code",
   "execution_count": 10,
   "id": "5f7e3adb",
   "metadata": {},
   "outputs": [],
   "source": [
    "df_Europe = pd.DataFrame(s_Europe,columns=['imp'],index=['Other Europe'])\n",
    "df_nonEurope = pd.DataFrame(s_nonEurope,columns=['imp'],index=['Other non-Europe'])\n",
    "df_import = pd.concat([df_import,df_Europe,df_nonEurope])"
   ]
  },
  {
   "cell_type": "code",
   "execution_count": 11,
   "id": "b8ac5738",
   "metadata": {},
   "outputs": [
    {
     "data": {
      "text/html": [
       "<div>\n",
       "<style scoped>\n",
       "    .dataframe tbody tr th:only-of-type {\n",
       "        vertical-align: middle;\n",
       "    }\n",
       "\n",
       "    .dataframe tbody tr th {\n",
       "        vertical-align: top;\n",
       "    }\n",
       "\n",
       "    .dataframe thead th {\n",
       "        text-align: right;\n",
       "    }\n",
       "</style>\n",
       "<table border=\"1\" class=\"dataframe\">\n",
       "  <thead>\n",
       "    <tr style=\"text-align: right;\">\n",
       "      <th></th>\n",
       "      <th>imp</th>\n",
       "    </tr>\n",
       "  </thead>\n",
       "  <tbody>\n",
       "    <tr>\n",
       "      <th>Russia</th>\n",
       "      <td>152648.740</td>\n",
       "    </tr>\n",
       "    <tr>\n",
       "      <th>Norway</th>\n",
       "      <td>74562.741</td>\n",
       "    </tr>\n",
       "    <tr>\n",
       "      <th>Algeria</th>\n",
       "      <td>28997.230</td>\n",
       "    </tr>\n",
       "    <tr>\n",
       "      <th>Not specified</th>\n",
       "      <td>27431.302</td>\n",
       "    </tr>\n",
       "    <tr>\n",
       "      <th>Netherlands</th>\n",
       "      <td>22941.337</td>\n",
       "    </tr>\n",
       "    <tr>\n",
       "      <th>Other Europe</th>\n",
       "      <td>24300.398</td>\n",
       "    </tr>\n",
       "    <tr>\n",
       "      <th>Other non-Europe</th>\n",
       "      <td>69707.612</td>\n",
       "    </tr>\n",
       "  </tbody>\n",
       "</table>\n",
       "</div>"
      ],
      "text/plain": [
       "                         imp\n",
       "Russia            152648.740\n",
       "Norway             74562.741\n",
       "Algeria            28997.230\n",
       "Not specified      27431.302\n",
       "Netherlands        22941.337\n",
       "Other Europe       24300.398\n",
       "Other non-Europe   69707.612"
      ]
     },
     "execution_count": 11,
     "metadata": {},
     "output_type": "execute_result"
    }
   ],
   "source": [
    "df_import"
   ]
  },
  {
   "cell_type": "code",
   "execution_count": 12,
   "id": "61ff8165",
   "metadata": {},
   "outputs": [],
   "source": [
    "import_relative = df_import/df_import.sum()*100"
   ]
  },
  {
   "cell_type": "code",
   "execution_count": null,
   "id": "af9c17b5",
   "metadata": {},
   "outputs": [],
   "source": []
  },
  {
   "cell_type": "code",
   "execution_count": 13,
   "id": "6ba09f03",
   "metadata": {},
   "outputs": [
    {
     "data": {
      "text/html": [
       "<div>\n",
       "<style scoped>\n",
       "    .dataframe tbody tr th:only-of-type {\n",
       "        vertical-align: middle;\n",
       "    }\n",
       "\n",
       "    .dataframe tbody tr th {\n",
       "        vertical-align: top;\n",
       "    }\n",
       "\n",
       "    .dataframe thead th {\n",
       "        text-align: right;\n",
       "    }\n",
       "</style>\n",
       "<table border=\"1\" class=\"dataframe\">\n",
       "  <thead>\n",
       "    <tr style=\"text-align: right;\">\n",
       "      <th></th>\n",
       "      <th>imp</th>\n",
       "    </tr>\n",
       "  </thead>\n",
       "  <tbody>\n",
       "    <tr>\n",
       "      <th>Russia</th>\n",
       "      <td>38.106040</td>\n",
       "    </tr>\n",
       "    <tr>\n",
       "      <th>Norway</th>\n",
       "      <td>18.613260</td>\n",
       "    </tr>\n",
       "    <tr>\n",
       "      <th>Algeria</th>\n",
       "      <td>7.238642</td>\n",
       "    </tr>\n",
       "    <tr>\n",
       "      <th>Not specified</th>\n",
       "      <td>6.847736</td>\n",
       "    </tr>\n",
       "    <tr>\n",
       "      <th>Netherlands</th>\n",
       "      <td>5.726896</td>\n",
       "    </tr>\n",
       "    <tr>\n",
       "      <th>Other Europe</th>\n",
       "      <td>6.066162</td>\n",
       "    </tr>\n",
       "    <tr>\n",
       "      <th>Other non-Europe</th>\n",
       "      <td>17.401264</td>\n",
       "    </tr>\n",
       "  </tbody>\n",
       "</table>\n",
       "</div>"
      ],
      "text/plain": [
       "                        imp\n",
       "Russia            38.106040\n",
       "Norway            18.613260\n",
       "Algeria            7.238642\n",
       "Not specified      6.847736\n",
       "Netherlands        5.726896\n",
       "Other Europe       6.066162\n",
       "Other non-Europe  17.401264"
      ]
     },
     "execution_count": 13,
     "metadata": {},
     "output_type": "execute_result"
    }
   ],
   "source": [
    "import_relative"
   ]
  },
  {
   "cell_type": "code",
   "execution_count": 14,
   "id": "37918ebe",
   "metadata": {},
   "outputs": [],
   "source": [
    "# import_relative.to_csv('../data/Import_percentages.csv')"
   ]
  },
  {
   "cell_type": "code",
   "execution_count": 15,
   "id": "37ead71a-ba25-4891-8af7-5585fca86685",
   "metadata": {},
   "outputs": [],
   "source": [
    "df_consumption.dropna(inplace=True)\n",
    "df_consumption.drop([1,3],inplace=True)\n",
    "df_consumption.rename(columns={'TIME':'country','2020':'consumption'},inplace=True)"
   ]
  },
  {
   "cell_type": "code",
   "execution_count": 16,
   "id": "056972f2",
   "metadata": {},
   "outputs": [],
   "source": [
    "df_consumption.set_index('country',inplace=True)\n",
    "df_consumption.rename({'Czechia':'Czech Republic'},inplace=True)"
   ]
  },
  {
   "cell_type": "code",
   "execution_count": 17,
   "id": "4465dc2e",
   "metadata": {},
   "outputs": [],
   "source": [
    "df_cons_Europe = df_consumption.loc[Europe]"
   ]
  },
  {
   "cell_type": "code",
   "execution_count": 18,
   "id": "66f8a428",
   "metadata": {},
   "outputs": [],
   "source": [
    "df_cons_nonEurope = df_consumption.loc[~df_consumption.index.isin(Europe)]"
   ]
  },
  {
   "cell_type": "code",
   "execution_count": 19,
   "id": "ba74ce6f-0aed-4c1e-9380-11ba89066a6a",
   "metadata": {},
   "outputs": [],
   "source": [
    "#idx_small_rows_cons = df_consumption.query(\"consumption <= 20000\").index\n",
    "#s = df_consumption.loc[idx_small_rows_cons,'consumption'].sum()\n",
    "#df_consumption.drop(idx_small_rows_cons,inplace=True)\n",
    "#df_consumption= df_consumption.append({'country':'Other','consumption':s},ignore_index=True)\n",
    "\n",
    "idx_small_rows_cons_Europe = df_cons_Europe.query(\"consumption <= \" + str(threshold)).index\n",
    "idx_small_rows_cons_nonEurope = df_cons_nonEurope.query(\"consumption <= \" + str(threshold)).index\n",
    "\n",
    "s_Europe = df_cons_Europe.loc[idx_small_rows_cons_Europe,'consumption'].sum()\n",
    "s_nonEurope = df_cons_nonEurope.loc[idx_small_rows_cons_nonEurope,'consumption'].sum()\n",
    "\n",
    "df_consumption.drop(list(idx_small_rows_cons_Europe) + list(idx_small_rows_cons_nonEurope),inplace=True)"
   ]
  },
  {
   "cell_type": "code",
   "execution_count": 20,
   "id": "376acb31",
   "metadata": {},
   "outputs": [],
   "source": [
    "df_Europe = pd.DataFrame(s_Europe,columns=['consumption'],index=['Other Europe'])\n",
    "df_nonEurope = pd.DataFrame(s_nonEurope,columns=['consumption'],index=['Other non-Europe'])\n",
    "df_consumption = pd.concat([df_consumption,df_Europe,df_nonEurope])"
   ]
  },
  {
   "cell_type": "code",
   "execution_count": 21,
   "id": "5e46b7af",
   "metadata": {},
   "outputs": [],
   "source": [
    "# convert to bcm\n",
    "df_import /= 1e3\n",
    "df_consumption /= 1e3"
   ]
  },
  {
   "cell_type": "code",
   "execution_count": 22,
   "id": "bcbe877a-d443-4c0e-8d5d-a5a30624907b",
   "metadata": {},
   "outputs": [],
   "source": [
    "df = pd.concat((df_consumption.T,df_import.T))\n",
    "df['Type'] = ['Consumption','    Import / Production']"
   ]
  },
  {
   "cell_type": "code",
   "execution_count": 23,
   "id": "dfd24579-d867-45e2-ada5-042edf83dc18",
   "metadata": {},
   "outputs": [
    {
     "data": {
      "text/html": [
       "<div>\n",
       "<style scoped>\n",
       "    .dataframe tbody tr th:only-of-type {\n",
       "        vertical-align: middle;\n",
       "    }\n",
       "\n",
       "    .dataframe tbody tr th {\n",
       "        vertical-align: top;\n",
       "    }\n",
       "\n",
       "    .dataframe thead th {\n",
       "        text-align: right;\n",
       "    }\n",
       "</style>\n",
       "<table border=\"1\" class=\"dataframe\">\n",
       "  <thead>\n",
       "    <tr style=\"text-align: right;\">\n",
       "      <th></th>\n",
       "      <th>Russia</th>\n",
       "      <th>Algeria</th>\n",
       "      <th>Other non-Europe</th>\n",
       "      <th>Not specified</th>\n",
       "      <th>Germany</th>\n",
       "      <th>Belgium</th>\n",
       "      <th>Spain</th>\n",
       "      <th>France</th>\n",
       "      <th>Italy</th>\n",
       "      <th>Norway</th>\n",
       "      <th>Netherlands</th>\n",
       "      <th>Other Europe</th>\n",
       "      <th>Type</th>\n",
       "    </tr>\n",
       "  </thead>\n",
       "  <tbody>\n",
       "    <tr>\n",
       "      <th>consumption</th>\n",
       "      <td>NaN</td>\n",
       "      <td>NaN</td>\n",
       "      <td>0.364182</td>\n",
       "      <td>NaN</td>\n",
       "      <td>80.439019</td>\n",
       "      <td>21.6657</td>\n",
       "      <td>32.485</td>\n",
       "      <td>46.321129</td>\n",
       "      <td>66.39283</td>\n",
       "      <td>NaN</td>\n",
       "      <td>59.800178</td>\n",
       "      <td>93.121322</td>\n",
       "      <td>Consumption</td>\n",
       "    </tr>\n",
       "    <tr>\n",
       "      <th>imp</th>\n",
       "      <td>152.64874</td>\n",
       "      <td>28.99723</td>\n",
       "      <td>69.707612</td>\n",
       "      <td>27.431302</td>\n",
       "      <td>NaN</td>\n",
       "      <td>NaN</td>\n",
       "      <td>NaN</td>\n",
       "      <td>NaN</td>\n",
       "      <td>NaN</td>\n",
       "      <td>74.562741</td>\n",
       "      <td>22.941337</td>\n",
       "      <td>24.300398</td>\n",
       "      <td>Import / Production</td>\n",
       "    </tr>\n",
       "  </tbody>\n",
       "</table>\n",
       "</div>"
      ],
      "text/plain": [
       "                Russia   Algeria  Other non-Europe  Not specified    Germany  \\\n",
       "consumption        NaN       NaN          0.364182            NaN  80.439019   \n",
       "imp          152.64874  28.99723         69.707612      27.431302        NaN   \n",
       "\n",
       "             Belgium   Spain     France     Italy     Norway  Netherlands  \\\n",
       "consumption  21.6657  32.485  46.321129  66.39283        NaN    59.800178   \n",
       "imp              NaN     NaN        NaN       NaN  74.562741    22.941337   \n",
       "\n",
       "             Other Europe                     Type  \n",
       "consumption     93.121322              Consumption  \n",
       "imp             24.300398      Import / Production  "
      ]
     },
     "execution_count": 23,
     "metadata": {},
     "output_type": "execute_result"
    }
   ],
   "source": [
    "cols = ['Russia','Algeria','Other non-Europe','Not specified','Germany','Belgium','Spain','France','Italy','Norway','Netherlands','Other Europe','Type']\n",
    "df[cols]"
   ]
  },
  {
   "cell_type": "code",
   "execution_count": 24,
   "id": "6ba18fb9",
   "metadata": {},
   "outputs": [],
   "source": [
    "cp = plt.rcParams['axes.prop_cycle'].by_key()['color']\n",
    "\n",
    "cp = cp + ['#a924b7','#2CBDFE','#3aacf6', '#489bee','#568ae6',\n",
    "           '#6379de', '#7168d7','#7f57cf', '#8d46c7','#9b35bf']"
   ]
  },
  {
   "cell_type": "code",
   "execution_count": 25,
   "id": "08191fb3-11e3-4851-ab2b-1e8587ce9f0e",
   "metadata": {},
   "outputs": [
    {
     "data": {
      "image/png": "[encoded data removed]",
      "text/plain": [
       "<Figure size 432x360 with 1 Axes>"
      ]
     },
     "metadata": {
      "needs_background": "light"
     },
     "output_type": "display_data"
    }
   ],
   "source": [
    "fig,ax = plt.subplots(figsize=(6,5))\n",
    "df[cols].plot(kind='bar',stacked=True,x='Type',ax=ax,width=0.9,color=cp)\n",
    "lgd = ax.legend(loc='center left', bbox_to_anchor=(1, 0.52),prop={'size':fs})\n",
    "plt.title('Gas consumption and import',fontsize=fs)\n",
    "plt.ylabel('Billion cubic meters')\n",
    "plt.xlabel('')\n",
    "plt.xticks(rotation = 0) # Rotates X-Axis Ticks by 45-degrees\n",
    "plt.savefig('gas_overview.jpeg',dpi=500,bbox_extra_artists=(lgd,),bbox_inches='tight')"
   ]
  },
  {
   "cell_type": "code",
   "execution_count": 26,
   "id": "abbe0ea6-e8bc-4387-85e6-3bb51971b0a3",
   "metadata": {},
   "outputs": [],
   "source": [
    "#df_import['2020'].values"
   ]
  }
 ],
 "metadata": {
  "kernelspec": {
   "display_name": "Python 3",
   "language": "python",
   "name": "python3"
  },
  "language_info": {
   "codemirror_mode": {
    "name": "ipython",
    "version": 3
   },
   "file_extension": ".py",
   "mimetype": "text/x-python",
   "name": "python",
   "nbconvert_exporter": "python",
   "pygments_lexer": "ipython3",
   "version": "3.8.10"
  }
 },
 "nbformat": 4,
 "nbformat_minor": 5
}
